{
 "cells": [
  {
   "cell_type": "code",
   "execution_count": null,
   "metadata": {},
   "outputs": [
    {
     "name": "stdout",
     "output_type": "stream",
     "text": [
      "beam groups 12 demisemiquavers simple\n",
      "beam groups 12 semiquavers compound\n",
      "beam groups 12 semiquavers simple\n",
      "beam groups nested tuplets\n",
      "beam groups rests 1\n",
      "beam stem weight notes 1\n",
      "beam subdivisions crotchet unit\n",
      "beam subdivisions quaver unit\n",
      "beamed grace notes 2-note intervals\n",
      "beams 2-note intervals\n",
      "beams 4-note directions\n",
      "Diabelli Variation XIV\n",
      "Diabelli Variation XXIII\n",
      "Diabelli Variation XXVII\n",
      "Diabelli Variation XXXI\n",
      "TOTAL\n"
     ]
    }
   ],
   "source": [
    "import pandas as pd\n",
    "import os\n",
    "import shutil\n",
    "\n",
    "# INPUTS\n",
    "root_src_directory = r'\\\\?\\\\' + os.path.abspath(r\"C:\\Users\\julie\\Documents\\OMSA\\deep_learning\\final_project\\DoReMi_v1\\DoReMi_v1\\Dorico_project\\puckett_midi_needs_cleaning\")\n",
    "root_dst_directory = r'\\\\?\\\\' + os.path.abspath(r\"C:\\Users\\julie\\Documents\\OMSA\\deep_learning\\final_project\\DoReMi_v1\\DoReMi_v1\\Dorico_project\\puckett_midi_input_final\")\n",
    "log_file = os.path.join(root_src_directory, 'puckett_log_annotated_data.xlsx')\n",
    "\n",
    "# Read log file indicating whether need to add 1 to file suffix or not\n",
    "df = pd.read_excel(log_file)\n",
    "\n",
    "# Create directory for this teammate's MIDI files to go in\n",
    "if not os.path.exists(root_dst_directory):\n",
    "    os.makedirs(root_dst_directory)\n",
    "\n",
    "# For each piece...\n",
    "for i, row in df.iterrows():\n",
    "    # Get name of this piece\n",
    "    piece = row['piece']\n",
    "    print(piece)\n",
    "\n",
    "    # Directory names (r'\\\\?\\\\' allows code to handle cases with path length too long for operating system)\n",
    "    src_directory = os.path.join(root_src_directory, f'Flows from {piece}')\n",
    "    dst_directory = os.path.join(root_dst_directory, piece)\n",
    "\n",
    "    # For each file (MIDI) in this piece's directory...\n",
    "    for root, dirs, files in os.walk(src_directory):\n",
    "        for src_name in files:\n",
    "            src_file = os.path.join(root, src_name) # path to this MIDI file\n",
    "            \n",
    "            dst_final_seg = src_name.rsplit(' ', 1)[-1][:-4] # final characters in src filename (after final space char)\n",
    "\n",
    "            if dst_final_seg.isdigit(): # Base case: original file ends in a digit\n",
    "                dst_int = (int(dst_final_seg) + 1) if (row['add 1?'] == 1) else int(dst_final_seg) # add 1 (or don't)\n",
    "                dst_name = src_name[:src_name.rfind(' ')] + ' ' + f'{dst_int:03d}' + '.mid'\n",
    "            else:\n",
    "                dst_name = src_name[:len(src_name)-4] + ' 001.mid' # Edge case: original file does not end in digit\n",
    "            \n",
    "            # Shortens name of copied file to everything after final '-' hyphen character\n",
    "            dst_name = dst_name.rsplit('- ')[-1]\n",
    "            dst_file = os.path.join(dst_directory, dst_name)\n",
    "            \n",
    "            # Create folder to contain copied, renamed files\n",
    "            if not os.path.exists(dst_directory):\n",
    "                os.makedirs(dst_directory)\n",
    "            \n",
    "            # Copy the file to the new folder\n",
    "            shutil.copy(src_file, dst_file)"
   ]
  }
 ],
 "metadata": {
  "kernelspec": {
   "display_name": "final-proj",
   "language": "python",
   "name": "python3"
  },
  "language_info": {
   "codemirror_mode": {
    "name": "ipython",
    "version": 3
   },
   "file_extension": ".py",
   "mimetype": "text/x-python",
   "name": "python",
   "nbconvert_exporter": "python",
   "pygments_lexer": "ipython3",
   "version": "3.12.0"
  }
 },
 "nbformat": 4,
 "nbformat_minor": 2
}
