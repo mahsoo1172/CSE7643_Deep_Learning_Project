{
 "cells": [
  {
   "cell_type": "code",
   "execution_count": 33,
   "metadata": {},
   "outputs": [],
   "source": [
    "import pandas as pd\n",
    "import os\n",
    "import shutil"
   ]
  },
  {
   "cell_type": "code",
   "execution_count": null,
   "metadata": {},
   "outputs": [
    {
     "name": "stdout",
     "output_type": "stream",
     "text": [
      "beam groups 12 demisemiquavers simple\n",
      "beam groups 12 semiquavers compound\n",
      "beam groups 12 semiquavers simple\n",
      "beam groups nested tuplets\n",
      "beam groups rests 1\n",
      "beam stem weight notes 1\n",
      "beam subdivisions crotchet unit\n",
      "beam subdivisions quaver unit\n",
      "beamed grace notes 2-note intervals\n",
      "beams 2-note intervals\n",
      "beams 4-note directions\n",
      "Diabelli Variation XIV\n",
      "Diabelli Variation XXIII\n",
      "Diabelli Variation XXVII\n",
      "Diabelli Variation XXXI\n",
      "TOTAL\n"
     ]
    }
   ],
   "source": [
    "df = pd.read_excel('log_annotated_data.xlsx')\n",
    "\n",
    "# For each piece...\n",
    "for i, row in df.iterrows():\n",
    "    # Get name of this piece\n",
    "    piece = row['piece']\n",
    "    print(piece)\n",
    "\n",
    "    # Directory names (r'\\\\?\\\\' allows code to handle cases with path length too long for operating system)\n",
    "    src_directory = r'\\\\?\\\\' + os.path.abspath(f'Flows from {piece}')\n",
    "    dst_directory = r'\\\\?\\\\' + os.path.abspath(f'Flows from {piece}_renumbered')\n",
    "\n",
    "    # For each file (MIDI) in this piece's directory...\n",
    "    for root, dirs, files in os.walk(src_directory):\n",
    "        for src_name in files:\n",
    "            src_file = os.path.join(root, src_name)\n",
    "            \n",
    "            # Set name of copied file\n",
    "            if row['add 1?'] == 1: # If excel file has 'add 1?' = TRUE (1), add 1 to its number\n",
    "                dst_final_seg = src_name.rsplit(' ', 1)[-1][:-4]\n",
    "                if dst_final_seg.isdigit(): # Base case: original file ends in a digit\n",
    "                    dst_name = src_name[:src_name.rfind(' ')] + ' ' + str(int(dst_final_seg) + 1) + '.mid'\n",
    "                else: # Edge case: original file has no number at the end (\"file 0\")\n",
    "                    dst_name = src_name[:len(src_name)-4] + ' 1.mid'\n",
    "            else: # If excel file has 'add 1?' == FALSE, no addition needed. Just copy the file (with a shortened name).\n",
    "                dst_name = src_name\n",
    "            \n",
    "            # Shortens name of copied file to everything after final '-' hyphen character\n",
    "            dst_name = dst_name.rsplit('- ')[-1]\n",
    "            dst_file = os.path.join(dst_directory, dst_name)\n",
    "            \n",
    "            # Create folder to contain copied, renamed files\n",
    "            if not os.path.exists(dst_directory):\n",
    "                os.makedirs(dst_directory)\n",
    "            \n",
    "            # Copy the file to the new folder\n",
    "            shutil.copy(src_file, dst_file)"
   ]
  }
 ],
 "metadata": {
  "kernelspec": {
   "display_name": "final-proj",
   "language": "python",
   "name": "python3"
  },
  "language_info": {
   "codemirror_mode": {
    "name": "ipython",
    "version": 3
   },
   "file_extension": ".py",
   "mimetype": "text/x-python",
   "name": "python",
   "nbconvert_exporter": "python",
   "pygments_lexer": "ipython3",
   "version": "3.13.0"
  }
 },
 "nbformat": 4,
 "nbformat_minor": 2
}
